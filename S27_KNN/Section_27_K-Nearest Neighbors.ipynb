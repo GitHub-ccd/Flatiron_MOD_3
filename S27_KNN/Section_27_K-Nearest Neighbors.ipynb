{
 "cells": [
  {
   "cell_type": "markdown",
   "metadata": {},
   "source": [
    "# Section 27 - lessons and labs\n",
    "\n",
    "[knn-intro](./dsc-knn-intro-onl01-dtsc-ft-030220/index.ipynb)<br>\n",
    "\n",
    "\n",
    "[distance-metrics](./dsc-distance-metrics-onl01-dtsc-ft-030220/index.ipynb)<br>\n",
    "- Manhattan distance \n",
    "- Euclidean distance  \n",
    "- Minkowski distance\n",
    "- Compare and contrast Manhattan, Euclidean, and Minkowski distance \n",
    "\n",
    "[distance-metrics-lab](./dsc-distance-metrics-lab-onl01-dtsc-ft-030220/index.ipynb)<br>\n",
    "Methods of calculating distances\n",
    "\n",
    "[k-nearest-neighbors](./dsc-k-nearest-neighbors-onl01-dtsc-ft-030220/index.ipynb)<br>\n",
    "Evaluating model performance\n",
    "\n",
    "[k-nearest-neighbors-lab](./dsc-k-nearest-neighbors-lab-onl01-dtsc-ft-030220/index.ipynb)<br>\n",
    "\n",
    "\n",
    "[finding-the-best-value-for-k](./dsc-finding-the-best-value-for-k-onl01-dtsc-ft-030220/index.ipynb)<br>\n",
    "K, overfitting, and underfitting\n",
    "\n",
    "[knn-with-scikit-learn](./dsc-knn-with-scikit-learn-onl01-dtsc-ft-030220/index.ipynb)<br>\n",
    "KNN sklern. Best practices\n",
    "\n",
    "[knn-with-scikit-learn-lab](./dsc-knn-with-scikit-learn-lab-onl01-dtsc-ft-030220/index.ipynb)<br>\n",
    "\n",
    "\n",
    "[knn-recap](./dsc-knn-recap-onl01-dtsc-ft-030220/index.ipynb)<br>\n"
   ]
  },
  {
   "cell_type": "code",
   "execution_count": null,
   "metadata": {},
   "outputs": [],
   "source": []
  }
 ],
 "metadata": {
  "kernelspec": {
   "display_name": "Python 3",
   "language": "python",
   "name": "python3"
  },
  "language_info": {
   "codemirror_mode": {
    "name": "ipython",
    "version": 3
   },
   "file_extension": ".py",
   "mimetype": "text/x-python",
   "name": "python",
   "nbconvert_exporter": "python",
   "pygments_lexer": "ipython3",
   "version": "3.6.9"
  },
  "toc": {
   "base_numbering": 1,
   "nav_menu": {},
   "number_sections": true,
   "sideBar": true,
   "skip_h1_title": true,
   "title_cell": "Table of Contents",
   "title_sidebar": "Contents",
   "toc_cell": false,
   "toc_position": {},
   "toc_section_display": true,
   "toc_window_display": false
  }
 },
 "nbformat": 4,
 "nbformat_minor": 2
}
