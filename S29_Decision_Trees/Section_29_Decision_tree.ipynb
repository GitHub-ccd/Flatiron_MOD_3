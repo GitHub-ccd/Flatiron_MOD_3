{
 "cells": [
  {
   "cell_type": "markdown",
   "metadata": {},
   "source": [
    "# Section 29 - Decision Tree lessons and labs\n",
    "\n",
    "[decision-trees-section-intro](./dsc-decision-trees-section-intro-onl01-dtsc-ft-030220/index.ipynb)<br>\n",
    "\n",
    "\n",
    "[introduction-to-decision-trees](./dsc-introduction-to-decision-trees-onl01-dtsc-ft-030220/index.ipynb)<br>\n",
    "* __CART (Classification and Regression Trees)__ uses the Gini Index as a metric\n",
    "* __ID3 (Iterative Dichotomiser 3)__ uses the entropy function and information gain as metrics\n",
    "\n",
    "[entropy-and-information-gain](./dsc-entropy-and-information-gain-onl01-dtsc-ft-030220/index.ipynb)<br>\n",
    "Shannon's Entropy\n",
    "\n",
    "\n",
    "[ID3-trees-lab](./dsc-ID3-trees-lab-onl01-dtsc-ft-030220/index.ipynb)<br>\n",
    "Perfect Split with Information Gain\n",
    "\n",
    "[decision-trees-with-sklearn-codealong](./dsc-decision-trees-with-sklearn-codealong-onl01-dtsc-ft-030220/index.ipynb)<br>\n",
    "Evaluate the predictive performance\n",
    "\n",
    "\n",
    "[decision-trees-lab](./dsc-decision-trees-lab-onl01-dtsc-ft-030220/index.ipynb)<br>\n",
    "\n",
    "\n",
    "[tuning-decision-trees](./dsc-tuning-decision-trees-onl01-dtsc-ft-030220/index.ipynb)<br>\n",
    "- [Overview of hyperparameter tuning](https://cloud.google.com/ml-engine/docs/tensorflow/hyperparameter-tuning-overview)\n",
    "- [Demystifying hyperparameter tuning](https://towardsdatascience.com/demystifying-hyper-parameter-tuning-acb83af0258f)\n",
    "- [Pruning decision trees](https://www.displayr.com/machine-learning-pruning-decision-trees/)\n",
    "\n",
    "[tuning-decision-trees-lab](./dsc-tuning-decision-trees-lab-onl01-dtsc-ft-030220/index.ipynb)<br>\n",
    "\n",
    "\n",
    "[regression-cart-trees-codealong](./dsc-regression-cart-trees-codealong-onl01-dtsc-ft-030220/index.ipynb)<br>\n",
    "\n",
    "\n",
    "[regression-cart-trees-lab](./dsc-regression-cart-trees-lab-onl01-dtsc-ft-030220/index.ipynb)<br>\n",
    "\n",
    "\n",
    "[tuning-regression-trees-lab](./dsc-tuning-regression-trees-lab-onl01-dtsc-ft-030220/index.ipynb)<br>\n",
    "\n",
    "\n",
    "[decision-trees-section-recap](./dsc-decision-trees-section-recap-onl01-dtsc-ft-030220/index.ipynb)<br>\n",
    "\n"
   ]
  },
  {
   "cell_type": "code",
   "execution_count": null,
   "metadata": {},
   "outputs": [],
   "source": []
  }
 ],
 "metadata": {
  "kernelspec": {
   "display_name": "Python 3",
   "language": "python",
   "name": "python3"
  },
  "language_info": {
   "codemirror_mode": {
    "name": "ipython",
    "version": 3
   },
   "file_extension": ".py",
   "mimetype": "text/x-python",
   "name": "python",
   "nbconvert_exporter": "python",
   "pygments_lexer": "ipython3",
   "version": "3.6.9"
  },
  "toc": {
   "base_numbering": 1,
   "nav_menu": {},
   "number_sections": true,
   "sideBar": true,
   "skip_h1_title": true,
   "title_cell": "Table of Contents",
   "title_sidebar": "Contents",
   "toc_cell": false,
   "toc_position": {},
   "toc_section_display": true,
   "toc_window_display": false
  }
 },
 "nbformat": 4,
 "nbformat_minor": 2
}
