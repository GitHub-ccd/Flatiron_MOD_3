{
 "cells": [
  {
   "cell_type": "markdown",
   "metadata": {},
   "source": [
    "# Section 26 - lessons and labs\n",
    "[mle-logistic-reg-intro](./dsc-mle-logistic-reg-intro-onl01-dtsc-ft-030220/index.ipynb)<br>\n",
    "\n",
    "\n",
    "[mle-review](./dsc-mle-review-onl01-dtsc-ft-030220/index.ipynb)<br>\n",
    "\n",
    "\n",
    "[mle-logistic-regression](./dsc-mle-logistic-regression-onl01-dtsc-ft-030220/index.ipynb)<br>\n",
    "\n",
    "\n",
    "[gradient-descent-review](./dsc-gradient-descent-review-onl01-dtsc-ft-030220/index.ipynb)<br>\n",
    "\n",
    "\n",
    "[gradient-descent-lab](./dsc-gradient-descent-lab-onl01-dtsc-ft-030220/index.ipynb)<br>\n",
    "\n",
    "\n",
    "[coding-logistic-regression-from-scratch](./dsc-coding-logistic-regression-from-scratch-onl01-dtsc-ft-030220/index.ipynb)<br>\n",
    "\n",
    "\n",
    "[logistic-regression-model-comparisons-lab](./dsc-logistic-regression-model-comparisons-lab-onl01-dtsc-ft-030220/index.ipynb)<br>\n",
    "\n",
    "\n",
    "[mle-log-reg-recap](./dsc-mle-log-reg-recap-onl01-dtsc-ft-030220/index.ipynb)<br>\n"
   ]
  },
  {
   "cell_type": "code",
   "execution_count": null,
   "metadata": {},
   "outputs": [],
   "source": []
  }
 ],
 "metadata": {
  "kernelspec": {
   "display_name": "Python 3",
   "language": "python",
   "name": "python3"
  },
  "language_info": {
   "codemirror_mode": {
    "name": "ipython",
    "version": 3
   },
   "file_extension": ".py",
   "mimetype": "text/x-python",
   "name": "python",
   "nbconvert_exporter": "python",
   "pygments_lexer": "ipython3",
   "version": "3.6.9"
  },
  "toc": {
   "base_numbering": 1,
   "nav_menu": {},
   "number_sections": true,
   "sideBar": true,
   "skip_h1_title": true,
   "title_cell": "Table of Contents",
   "title_sidebar": "Contents",
   "toc_cell": false,
   "toc_position": {},
   "toc_section_display": true,
   "toc_window_display": false
  }
 },
 "nbformat": 4,
 "nbformat_minor": 2
}
