{
 "cells": [
  {
   "cell_type": "markdown",
   "metadata": {},
   "source": [
    "# Section 25 - Logistic regression lessons and labs\n",
    "\n",
    "[logistic-regression-intro](./dsc-logistic-regression-intro-onl01-dtsc-ft-030220/index.ipynb)<br>\n",
    "Introduce: \n",
    "* Logistic Regression\n",
    "* Evaluating Classifiers -  Receiver Operating Characteristic (ROC) curves and AUC (the Area Under the Curve).\n",
    "* Class Imbalance Problems \n",
    "\n",
    "[intro-to-supervised-learning-v2-1](./dsc-intro-to-supervised-learning-v2-1-onl01-dtsc-ft-030220/index.ipynb)<br>\n",
    "An high level discription of Machine learning in terms of supervised, unsurpervised learning....\n",
    "<!--\n",
    "<img src='dsc-intro-to-supervised-learning-v2-1-onl01-dtsc-ft-030220/images/new_ml-hierarchy.png' width=\"600\">\n",
    "-->\n",
    "\n",
    "[linear-to-logistic-regression](./dsc-linear-to-logistic-regression-onl01-dtsc-ft-030220/index.ipynb)<br>\n",
    "Interduction to Logistic regression and a real world problem - Salaries problem\n",
    "\n",
    "[logistic-regression-in-scikit-learn](./dsc-logistic-regression-in-scikit-learn-onl01-dtsc-ft-030220/index.ipynb)<br>\n",
    "Logistic regression on SciKit learn -> \n",
    "* normalization\n",
    "* Test-Train split\n",
    "* fit and predict\n",
    "\n",
    "[logistic-regression-in-scikit-learn-lab](./dsc-logistic-regression-in-scikit-learn-lab-onl01-dtsc-ft-030220/index.ipynb)<br>\n",
    "\n",
    "\n",
    "[confusion-matrices](./dsc-confusion-matrices-onl01-dtsc-ft-030220/index.ipynb)<br>\n",
    "How to evaluate a classifier? This is general to any classification method. <b>Closer look at Confussion Matrix</b>\n",
    "\n",
    "[visualizing-confusion-matrices-lab](./dsc-visualizing-confusion-matrices-lab-onl01-dtsc-ft-030220/index.ipynb)<br>\n",
    "\n",
    "\n",
    "[evaluation-metrics](./dsc-evaluation-metrics-onl01-dtsc-ft-030220/index.ipynb)<br>\n",
    "* **_Precision_** and **_Recall_**\n",
    "* **_Accuracy_**\n",
    "* **F1-score** represents the **_Harmonic Mean of Precision and Recall_**.\n",
    "--> It's important to look at a **_Classification Report_**\n",
    "\n",
    "[evaluating-logistic-regression-models-lab](./dsc-evaluating-logistic-regression-models-lab-onl01-dtsc-ft-030220/index.ipynb)<br>\n",
    "The cancer risk dataset example. This has nice funtions for evaluation metrices. \n",
    "\n",
    "\n",
    "[roc-curves-and-auc](./dsc-roc-curves-and-auc-onl01-dtsc-ft-030220/index.ipynb)<br>\n",
    "TPR and FPR definitions and making the ROC and AUC curves. \n",
    "__Perfect classifiers would have an AUC score of 1.0 while an AUC of 0.5 is deemed trivial or worthless.__\n",
    "\n",
    "[roc-curves-and-auc-lab](./dsc-roc-curves-and-auc-lab-onl01-dtsc-ft-030220/index.ipynb)<br>\n",
    "\n",
    "\n",
    "[class-imbalance-problems](./dsc-class-imbalance-problems-onl01-dtsc-ft-030220/index.ipynb)<br>\n",
    "What happens if targets labels are imballenced? \n",
    "**oversampling the minority class** or **undersampling the majority class**\n",
    "SMOTE stands for **Synthetic Minority Oversampling**\n",
    "\n",
    "[class-imbalance-problems-lab](./dsc-class-imbalance-problems-lab-onl01-dtsc-ft-030220/index.ipynb)<br>\n",
    "__Predicting credit card fraud__ example to show how the class imballence problem. How SMOTE synthetic data generating and how to use scikit learn's SMOTE methods. \n",
    "\n",
    "[logistic-regression-section-recap](./dsc-logistic-regression-section-recap-onl01-dtsc-ft-030220/index.ipynb)<br>\n"
   ]
  },
  {
   "cell_type": "code",
   "execution_count": null,
   "metadata": {},
   "outputs": [],
   "source": []
  }
 ],
 "metadata": {
  "kernelspec": {
   "display_name": "Python 3",
   "language": "python",
   "name": "python3"
  },
  "language_info": {
   "codemirror_mode": {
    "name": "ipython",
    "version": 3
   },
   "file_extension": ".py",
   "mimetype": "text/x-python",
   "name": "python",
   "nbconvert_exporter": "python",
   "pygments_lexer": "ipython3",
   "version": "3.6.9"
  },
  "toc": {
   "base_numbering": 1,
   "nav_menu": {},
   "number_sections": true,
   "sideBar": true,
   "skip_h1_title": true,
   "title_cell": "Table of Contents",
   "title_sidebar": "Contents",
   "toc_cell": false,
   "toc_position": {},
   "toc_section_display": true,
   "toc_window_display": false
  }
 },
 "nbformat": 4,
 "nbformat_minor": 2
}
