{
 "cells": [
  {
   "cell_type": "markdown",
   "metadata": {},
   "source": [
    "# Section 31 - SVM lessons and labs\n",
    "\n",
    "[svm-intro](./dsc-svm-intro-onl01-dtsc-ft-030220/index.ipynb)<br>\n",
    "\n",
    "\n",
    "[introduction-to-support-vector-machines](./dsc-introduction-to-support-vector-machines-onl01-dtsc-ft-030220/index.ipynb)<br>\n",
    "\n",
    "\n",
    "[building-an-svm-from-scratch-lab](./dsc-building-an-svm-from-scratch-lab-onl01-dtsc-ft-030220/index.ipynb)<br>\n",
    "- Build a simple linear max margin classifier from scratch \n",
    "- Build a simple soft margin classifier from scratch<br>\n",
    "there are  issues with cvxpy installation. linking lapac/blas libraries\n",
    "\n",
    "[building-an-svm-using-scikit-learn-lab](./dsc-building-an-svm-using-scikit-learn-lab-onl01-dtsc-ft-030220/index.ipynb)<br>\n",
    "- Use scikit-learn to build an SVM when there are two groups \n",
    "- Use scikit-learn to build an SVM when there are more than two groups<br>\n",
    "These are all theoretical groups with different shapes \n",
    "\n",
    "[the-kernel-trick](./dsc-the-kernel-trick-onl01-dtsc-ft-030220/index.ipynb)<br>\n",
    "\n",
    "\n",
    "[kernels-in-scikit-learn-lab](./dsc-kernels-in-scikit-learn-lab-onl01-dtsc-ft-030220/index.ipynb)<br>\n",
    "\n",
    "\n",
    "[svm-recap](./dsc-svm-recap-onl01-dtsc-ft-030220/index.ipynb)<br>\n",
    "\n"
   ]
  },
  {
   "cell_type": "code",
   "execution_count": null,
   "metadata": {},
   "outputs": [],
   "source": []
  }
 ],
 "metadata": {
  "kernelspec": {
   "display_name": "Python 3",
   "language": "python",
   "name": "python3"
  },
  "language_info": {
   "codemirror_mode": {
    "name": "ipython",
    "version": 3
   },
   "file_extension": ".py",
   "mimetype": "text/x-python",
   "name": "python",
   "nbconvert_exporter": "python",
   "pygments_lexer": "ipython3",
   "version": "3.6.9"
  },
  "toc": {
   "base_numbering": 1,
   "nav_menu": {},
   "number_sections": true,
   "sideBar": true,
   "skip_h1_title": true,
   "title_cell": "Table of Contents",
   "title_sidebar": "Contents",
   "toc_cell": false,
   "toc_position": {},
   "toc_section_display": true,
   "toc_window_display": false
  }
 },
 "nbformat": 4,
 "nbformat_minor": 2
}
