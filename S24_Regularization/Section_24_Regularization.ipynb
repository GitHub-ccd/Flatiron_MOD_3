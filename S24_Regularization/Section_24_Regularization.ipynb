{
 "cells": [
  {
   "cell_type": "markdown",
   "metadata": {},
   "source": [
    "# Section 24 - lessons and labs\n",
    "\n",
    "[Regularization - Introduction](./dsc-regularization-intro-v2-1-onl01-dtsc-ft-030220/index.ipynb)<br>\n",
    "\n",
    "\n",
    "[Ridge and Lasso Regression](./dsc-ridge-and-lasso-regression-onl01-dtsc-ft-030220/index.ipynb)<br>\n",
    "- Define Lasso regression \n",
    "- Define Ridge regression \n",
    "- Describe why standardization is necessary before Ridge and Lasso regression \n",
    "- Compare and contrast Lasso, Ridge, and non-regularized regression \n",
    "- Use Lasso and Ridge regression with scikit-learn \n",
    "\n",
    "[Ridge and Lasso Regression - Lab](./dsc-ridge-and-lasso-regression-lab-onl01-dtsc-ft-030220/index.ipynb)<br>\n",
    "\n",
    "\n",
    "[Feature and Model Selection: AIC and BIC](./dsc-feature-and-model-selection-aic-and-bic-onl01-dtsc-ft-030220/index.ipynb)<br>\n",
    "\n",
    "\n",
    "[Feature Selection Methods](./dsc-feature-selection-methods-onl01-dtsc-ft-030220/index.ipynb)<br>\n",
    "Feature selection\n",
    "- Domain knowledge\n",
    "- Wrapper methods\n",
    "- Filter methods\n",
    "- Embedded methods\n",
    "\n",
    "\n",
    "[Extensions to Linear Models - Lab](./dsc-extensions-to-linear-models-lab-onl01-dtsc-ft-030220/index.ipynb)<br>\n",
    "\n",
    "\n",
    "\n",
    "[Generating Data](./dsc-generating-data-onl01-dtsc-ft-030220/index.ipynb)<br>\n",
    "\n",
    "\n",
    "\n",
    "[Generating Data - Lab](./dsc-generating-data-lab-onl01-dtsc-ft-030220/index.ipynb)<br>\n",
    "\n",
    "\n",
    "\n",
    "[Regularization - Recap](./dsc-regularization-recap-v2-1-onl01-dtsc-ft-030220/index.ipynb)<br>\n"
   ]
  },
  {
   "cell_type": "code",
   "execution_count": null,
   "metadata": {},
   "outputs": [],
   "source": []
  }
 ],
 "metadata": {
  "kernelspec": {
   "display_name": "Python 3",
   "language": "python",
   "name": "python3"
  },
  "language_info": {
   "codemirror_mode": {
    "name": "ipython",
    "version": 3
   },
   "file_extension": ".py",
   "mimetype": "text/x-python",
   "name": "python",
   "nbconvert_exporter": "python",
   "pygments_lexer": "ipython3",
   "version": "3.7.7"
  },
  "toc": {
   "base_numbering": 1,
   "nav_menu": {},
   "number_sections": true,
   "sideBar": true,
   "skip_h1_title": true,
   "title_cell": "Table of Contents",
   "title_sidebar": "Contents",
   "toc_cell": false,
   "toc_position": {},
   "toc_section_display": true,
   "toc_window_display": false
  }
 },
 "nbformat": 4,
 "nbformat_minor": 2
}
