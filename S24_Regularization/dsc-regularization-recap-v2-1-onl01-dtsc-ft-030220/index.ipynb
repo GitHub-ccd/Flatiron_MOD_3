{
 "cells": [
  {
   "cell_type": "markdown",
   "metadata": {},
   "source": [
    "# Regularization - Recap\n",
    "\n",
    "## Key Takeaways \n",
    "\n",
    "- Regularization discourages overly complex models by penalizing the loss function \n",
    "- Lasso and Ridge are two commonly used so-called regularization techniques \n",
    "- In Ridge regression, the cost function is changed by adding a penalty term to the square of the magnitude of the coefficients \n",
    "- Ridge regression is often also referred to as L2 Norm Regularization \n",
    "- Lasso regression is very similar to Ridge regression, except that the magnitude of the coefficients are not squared in the penalty term \n",
    "- Lasso regression is often also referred to as L1 Norm Regularization \n",
    "- AIC and BIC are two measures which give you a comprehensive measure of model performace taking into account the varying number of features  \n",
    "- The lower the AIC and/or BIC, the better the model "
   ]
  }
 ],
 "metadata": {
  "kernelspec": {
   "display_name": "Python 3",
   "language": "python",
   "name": "python3"
  },
  "language_info": {
   "codemirror_mode": {
    "name": "ipython",
    "version": 3
   },
   "file_extension": ".py",
   "mimetype": "text/x-python",
   "name": "python",
   "nbconvert_exporter": "python",
   "pygments_lexer": "ipython3",
   "version": "3.6.9"
  },
  "toc": {
   "base_numbering": 1,
   "nav_menu": {},
   "number_sections": true,
   "sideBar": true,
   "skip_h1_title": true,
   "title_cell": "Table of Contents",
   "title_sidebar": "Contents",
   "toc_cell": false,
   "toc_position": {},
   "toc_section_display": true,
   "toc_window_display": false
  }
 },
 "nbformat": 4,
 "nbformat_minor": 2
}
