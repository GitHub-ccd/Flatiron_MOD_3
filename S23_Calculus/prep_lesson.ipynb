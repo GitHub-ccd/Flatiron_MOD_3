{
 "cells": [
  {
   "cell_type": "code",
   "execution_count": 11,
   "metadata": {},
   "outputs": [
    {
     "name": "stdout",
     "output_type": "stream",
     "text": [
      "lesson name <br>\n",
      "[lesson name](./dsc-calculus-introduction-onl01-dtsc-ft-030220/index.ipynb)<br>\n",
      "\n",
      "\n",
      "lesson name <br>\n",
      "[lesson name](./dsc-derivatives-intro-onl01-dtsc-ft-030220/index.ipynb)<br>\n",
      "\n",
      "\n",
      "lesson name <br>\n",
      "[lesson name](./dsc-derivatives-intro-lab-onl01-dtsc-ft-030220/index.ipynb)<br>\n",
      "\n",
      "\n",
      "lesson name <br>\n",
      "[lesson name](./dsc-derivatives-of-non-linear-functions-onl01-dtsc-ft-030220/index.ipynb)<br>\n",
      "\n",
      "\n",
      "lesson name <br>\n",
      "[lesson name](./dsc-rules-for-derivatives-onl01-dtsc-ft-030220/index.ipynb)<br>\n",
      "\n",
      "\n",
      "lesson name <br>\n",
      "[lesson name](./dsc-gradient-descent-intro-onl01-dtsc-ft-030220/index.ipynb)<br>\n",
      "\n",
      "\n",
      "lesson name <br>\n",
      "[lesson name](./dsc-gradient-descent-step-sizes-onl01-dtsc-ft-030220/index.ipynb)<br>\n",
      "\n",
      "\n",
      "lesson name <br>\n",
      "[lesson name](./dsc-gradient-descent-step-sizes-lab-onl01-dtsc-ft-030220/index.ipynb)<br>\n",
      "\n",
      "\n",
      "lesson name <br>\n",
      "[lesson name](./dsc-gradient-descent-in-3d-onl01-dtsc-ft-030220/index.ipynb)<br>\n",
      "\n",
      "\n",
      "lesson name <br>\n",
      "[lesson name](./dsc-the-gradient-in-gradient-descent-onl01-dtsc-ft-030220/index.ipynb)<br>\n",
      "\n",
      "\n",
      "lesson name <br>\n",
      "[lesson name](./dsc-gradient-to-cost-function-v2-1-onl01-dtsc-ft-030220/index.ipynb)<br>\n",
      "\n",
      "\n",
      "lesson name <br>\n",
      "[lesson name](./dsc-applying-gradient-descent-lab-onl01-dtsc-ft-030220/index.ipynb)<br>\n",
      "\n",
      "\n",
      "lesson name <br>\n",
      "[lesson name](./dsc-calculus-section-recap-onl01-dtsc-ft-030220/index.ipynb)<br>\n",
      "\n",
      "\n"
     ]
    }
   ],
   "source": [
    "f = open('links.txt', 'r')\n",
    "\n",
    "for line in f:\n",
    "    lesson = line.strip()\n",
    "    lesson = lesson.replace('https://github.com/learn-co-students/','')\n",
    "    lesson = lesson.replace('.git', '')\n",
    "    print(\"lesson name <br>\")\n",
    "    link='[lesson name](./'+lesson+'/index.ipynb)<br>'\n",
    "    #[Introduction](./dsc-distributions-section-intro-v2-1-onl01-dtsc-ft-030220/index.ipynb)\n",
    "    print(link)\n",
    "    print(\"\\n\")\n",
    "\n",
    "f.close()"
   ]
  },
  {
   "cell_type": "code",
   "execution_count": null,
   "metadata": {},
   "outputs": [],
   "source": []
  }
 ],
 "metadata": {
  "kernelspec": {
   "display_name": "Python [conda env:learn-env] *",
   "language": "python",
   "name": "conda-env-learn-env-py"
  },
  "language_info": {
   "codemirror_mode": {
    "name": "ipython",
    "version": 3
   },
   "file_extension": ".py",
   "mimetype": "text/x-python",
   "name": "python",
   "nbconvert_exporter": "python",
   "pygments_lexer": "ipython3",
   "version": "3.6.9"
  },
  "toc": {
   "base_numbering": 1,
   "nav_menu": {},
   "number_sections": true,
   "sideBar": true,
   "skip_h1_title": true,
   "title_cell": "Table of Contents",
   "title_sidebar": "Contents",
   "toc_cell": false,
   "toc_position": {},
   "toc_section_display": true,
   "toc_window_display": false
  }
 },
 "nbformat": 4,
 "nbformat_minor": 2
}
